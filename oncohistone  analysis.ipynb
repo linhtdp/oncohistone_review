{
 "cells": [
  {
   "cell_type": "code",
   "execution_count": 2,
   "id": "3e665fb5-d565-462b-8752-99de792988f1",
   "metadata": {},
   "outputs": [],
   "source": [
    "import pandas as pd\n",
    "import numpy as np\n",
    "import os"
   ]
  },
  {
   "cell_type": "code",
   "execution_count": 43,
   "id": "99cd114d-ebe8-4f87-ba69-cecadf744153",
   "metadata": {},
   "outputs": [],
   "source": [
    "link_nature_2 = '/Users/hdao/Google Drive/My Drive/Oncohistone Database_AP_review/Nature 2019 dataset/Nature 2019_Table 2_histone mutations on a per patient basis_41586_2019_1038_MOESM3_ESM.xlsx'\n",
    "link_nature_3 = '/Users/hdao/Google Drive/My Drive/Oncohistone Database_AP_review/Nature 2019 dataset/Nature 2019_Table 3_per patient basis where TMB less than 10 mutations Mb_41586_2019_1038_MOESM4_ESM.xlsx'\n",
    "link_nature_4 = '/Users/hdao/Google Drive/My Drive/Oncohistone Database_AP_review/Nature 2019 dataset/Nature 2019_Table 4_per patient basis where TMB less than 2 mutations per Mb_41586_2019_1038_MOESM5_ESM.xlsx'"
   ]
  },
  {
   "cell_type": "code",
   "execution_count": 44,
   "id": "3fe79edb-0888-4c6a-b6f2-96e72208fcf1",
   "metadata": {},
   "outputs": [
    {
     "data": {
      "text/plain": [
       "Index(['Hugo_Symbol', 'Protein_Change_Histone_Convention', 'Cancer_Study',\n",
       "       'Patient_Barcode', 'Tumor_Sample_Barcode', 'Oncotree_Code',\n",
       "       'Main_Cancer_Type', 'Curated_Main_Cancer_Type', 'Detailed_Cancer_Type',\n",
       "       'Mutation_Count_in_Sample', 'Sequencing_Panel', 'Exome_Coverage (Mb)',\n",
       "       'Tumor_Mutational_Burden (Nonsynonymous mutations per Mb)',\n",
       "       'Entrez_Gene_Id', 'Transcript_ID', 'NCBI_Build', 'Chromosome',\n",
       "       'Start_Position', 'End_Position', 'Variant_Classification',\n",
       "       'Variant_Type', 'Reference_Allele', 'Tumor_Seq_Allele1',\n",
       "       'Protein_Change_HGVSp', 'Reference_Amino_Acid', 'Variant_Amino_Acid',\n",
       "       'Protein_Start_Position_Histone_Convention',\n",
       "       'Protein_End_Position_Histone_Convention', 'Protein_Start_Position_VEP',\n",
       "       't_ref_count', 't_alt_count', 'n_ref_count', 'n_alt_count',\n",
       "       'Allele_Frequency_Tumor', 'Allele_Frequency_Normal'],\n",
       "      dtype='object')"
      ]
     },
     "execution_count": 44,
     "metadata": {},
     "output_type": "execute_result"
    }
   ],
   "source": [
    "nature_2 = pd.read_excel(link_nature_2)\n",
    "nature_3 = pd.read_excel(link_nature_3)\n",
    "nature_4 = pd.read_excel(link_nature_4)\n",
    "nature_2.columns"
   ]
  },
  {
   "cell_type": "code",
   "execution_count": 82,
   "id": "d91ea597-c4ed-44ee-80bd-9199792413df",
   "metadata": {},
   "outputs": [
    {
     "data": {
      "text/plain": [
       "HIST1H3B     273\n",
       "H3F3C        172\n",
       "HIST1H3C     150\n",
       "HIST1H3I     147\n",
       "HIST1H2BD    145\n",
       "            ... \n",
       "HIST3H2A      28\n",
       "H2AFJ         28\n",
       "HIST4H4       24\n",
       "HIST1H4A      21\n",
       "H2AFB1        17\n",
       "Name: Hugo_Symbol, Length: 63, dtype: int64"
      ]
     },
     "execution_count": 82,
     "metadata": {},
     "output_type": "execute_result"
    }
   ],
   "source": [
    "pd.set_option('display.max_rows', 10) # change to None or 1000 to display all output\n",
    "nature_2.Hugo_Symbol.value_counts()"
   ]
  },
  {
   "cell_type": "code",
   "execution_count": 50,
   "id": "22e8ad6f-6e94-4ae9-8d4a-c32ca08ee4ef",
   "metadata": {},
   "outputs": [],
   "source": [
    "def detect_4_groups(x):\n",
    "    if x[:3] == 'H2A' or x[:3] == 'H2B':\n",
    "        return x[:3]\n",
    "    if x[:2] == 'H4' or x[:2] == 'H3':\n",
    "        return x[:2]\n",
    "    else:\n",
    "        return 'other group'"
   ]
  },
  {
   "cell_type": "code",
   "execution_count": 51,
   "id": "ffd2fd83-5e32-467e-85b4-d3d4da47b0a2",
   "metadata": {},
   "outputs": [
    {
     "data": {
      "text/plain": [
       "other group    3544\n",
       "H3              371\n",
       "H2A             224\n",
       "Name: group, dtype: int64"
      ]
     },
     "execution_count": 51,
     "metadata": {},
     "output_type": "execute_result"
    }
   ],
   "source": [
    "nature_2['group'] = nature_2.Hugo_Symbol.apply(detect_4_groups)\n",
    "nature_3['group'] = nature_3.Hugo_Symbol.apply(detect_4_groups)\n",
    "nature_4['group'] = nature_4.Hugo_Symbol.apply(detect_4_groups)\n",
    "nature_2.group.value_counts()"
   ]
  },
  {
   "cell_type": "code",
   "execution_count": 52,
   "id": "b088cda3-1a52-495c-90e5-e75b3a2dd2d4",
   "metadata": {},
   "outputs": [],
   "source": [
    "nature_2['residue_aa'] = nature_2.Protein_Change_HGVSp.apply(lambda x : x[:2])\n",
    "nature_3['residue_aa'] = nature_3.Protein_Change_HGVSp.apply(lambda x : x[:2])\n",
    "nature_4['residue_aa'] = nature_4.Protein_Change_HGVSp.apply(lambda x : x[:2])"
   ]
  },
  {
   "cell_type": "markdown",
   "id": "fd6ffb89-e0a8-4653-bec7-bfd3e985ec81",
   "metadata": {},
   "source": [
    "### Nature Table 2 "
   ]
  },
  {
   "cell_type": "code",
   "execution_count": 83,
   "id": "e7d257db-3650-48b9-8a64-45adc7da316f",
   "metadata": {},
   "outputs": [
    {
     "data": {
      "text/plain": [
       "group  residue_aa\n",
       "H2A    A1            13\n",
       "       A2             4\n",
       "       A3             2\n",
       "       A5             6\n",
       "       A6             3\n",
       "                     ..\n",
       "H3     V1             1\n",
       "       V4             3\n",
       "       V8             1\n",
       "       Y4             1\n",
       "       Y5             1\n",
       "Name: Protein_Change_HGVSp, Length: 152, dtype: int64"
      ]
     },
     "execution_count": 83,
     "metadata": {},
     "output_type": "execute_result"
    }
   ],
   "source": [
    "# count distinct Protein_Change_HGVSp\n",
    "nature_2[nature_2['group']!='other group'].groupby(['group','residue_aa']).Protein_Change_HGVSp.nunique()"
   ]
  },
  {
   "cell_type": "code",
   "execution_count": 74,
   "id": "d6440469-3cd1-4957-b9e3-518e4224e3a2",
   "metadata": {},
   "outputs": [
    {
     "data": {
      "text/plain": [
       "group  residue_aa\n",
       "H2A    A1            13\n",
       "       A2             4\n",
       "       A3             2\n",
       "       A5             6\n",
       "       A6             3\n",
       "                     ..\n",
       "H3     V1             1\n",
       "       V4             3\n",
       "       V8             1\n",
       "       Y4             1\n",
       "       Y5             1\n",
       "Name: Protein_Change_HGVSp, Length: 152, dtype: int64"
      ]
     },
     "execution_count": 74,
     "metadata": {},
     "output_type": "execute_result"
    }
   ],
   "source": [
    "nature_2[nature_2['group']!='other group'].groupby(['group','residue_aa']).Protein_Change_HGVSp.nunique()"
   ]
  },
  {
   "cell_type": "code",
   "execution_count": 62,
   "id": "8a555ac1-3fd9-4eb4-8517-ff25fb9b1d21",
   "metadata": {},
   "outputs": [
    {
     "data": {
      "text/plain": [
       "group  residue_aa\n",
       "H2A    A1            13\n",
       "       A2             4\n",
       "       A3             2\n",
       "       A5            13\n",
       "       A6             3\n",
       "                     ..\n",
       "H3     V1             1\n",
       "       V4             5\n",
       "       V8             4\n",
       "       Y4             1\n",
       "       Y5             1\n",
       "Name: Protein_Change_HGVSp, Length: 152, dtype: int64"
      ]
     },
     "execution_count": 62,
     "metadata": {},
     "output_type": "execute_result"
    }
   ],
   "source": [
    "#count Protein_Change_HGVSp\n",
    "nature_2[nature_2['group']!='other group'].groupby(['group','residue_aa']).count().Protein_Change_HGVSp"
   ]
  },
  {
   "cell_type": "code",
   "execution_count": 75,
   "id": "83a09593-190c-4d00-b664-e7305ecd42b2",
   "metadata": {},
   "outputs": [
    {
     "data": {
      "text/plain": [
       "group  residue_aa\n",
       "H2A    A1            13\n",
       "       A2             4\n",
       "       A3             2\n",
       "       A5            13\n",
       "       A6             3\n",
       "                     ..\n",
       "H3     V1             1\n",
       "       V4             5\n",
       "       V8             4\n",
       "       Y4             1\n",
       "       Y5             1\n",
       "Name: Protein_Change_HGVSp, Length: 152, dtype: int64"
      ]
     },
     "execution_count": 75,
     "metadata": {},
     "output_type": "execute_result"
    }
   ],
   "source": [
    "(nature_2[nature_2['group']!='other group'].groupby(['group','residue_aa']).count().Protein_Change_HGVSp)"
   ]
  },
  {
   "cell_type": "code",
   "execution_count": 76,
   "id": "3100959c-889e-43bb-baa6-9114fbe9e9e8",
   "metadata": {},
   "outputs": [
    {
     "data": {
      "text/plain": [
       "group  residue_aa\n",
       "H2A    A1            13\n",
       "       A2             4\n",
       "       A3             2\n",
       "       A5            13\n",
       "       A6             3\n",
       "                     ..\n",
       "H3     V1             1\n",
       "       V4             5\n",
       "       V8             4\n",
       "       Y4             1\n",
       "       Y5             1\n",
       "Name: Protein_Change_HGVSp, Length: 152, dtype: int64"
      ]
     },
     "execution_count": 76,
     "metadata": {},
     "output_type": "execute_result"
    }
   ],
   "source": [
    "(nature_2[nature_2['group']!='other group'].groupby(['group','residue_aa']).count().Protein_Change_HGVSp)"
   ]
  },
  {
   "cell_type": "code",
   "execution_count": 81,
   "id": "ceb0961d-c623-41f5-8b13-8885c3972df1",
   "metadata": {},
   "outputs": [
    {
     "data": {
      "text/plain": [
       "<AxesSubplot:xlabel='residue_aa'>"
      ]
     },
     "execution_count": 81,
     "metadata": {},
     "output_type": "execute_result"
    },
    {
     "data": {
      "image/png": "[encoded data removed]",
      "text/plain": [
       "<Figure size 432x288 with 1 Axes>"
      ]
     },
     "metadata": {
      "needs_background": "light"
     },
     "output_type": "display_data"
    }
   ],
   "source": [
    "nature_2[nature_2['group']=='H2A'].groupby(['residue_aa']).count().Protein_Change_HGVSp.plot.bar()"
   ]
  },
  {
   "cell_type": "code",
   "execution_count": null,
   "id": "1d77f156-7301-4420-8d32-f56e9657fc1a",
   "metadata": {},
   "outputs": [],
   "source": []
  },
  {
   "cell_type": "markdown",
   "id": "c9d83c78-2947-4a86-a18e-b225c80973d4",
   "metadata": {},
   "source": [
    "### Nature table 3 "
   ]
  },
  {
   "cell_type": "code",
   "execution_count": 47,
   "id": "e7603958-823d-4121-a749-8d9a6e8e1a5a",
   "metadata": {},
   "outputs": [
    {
     "data": {
      "text/plain": [
       "group  Hugo_Symbol\n",
       "H2A    H2AFB1          3\n",
       "       H2AFJ          11\n",
       "       H2AFV           9\n",
       "       H2AFX          13\n",
       "       H2AFY          21\n",
       "       H2AFZ          14\n",
       "H3     H3F3A          30\n",
       "       H3F3B          31\n",
       "       H3F3C          41\n",
       "Name: Protein_Change_HGVSp, dtype: int64"
      ]
     },
     "execution_count": 47,
     "metadata": {},
     "output_type": "execute_result"
    }
   ],
   "source": [
    "nature_3[nature_3['group']!='other group'].groupby(['group','Hugo_Symbol']).Protein_Change_HGVSp.nunique()"
   ]
  },
  {
   "cell_type": "code",
   "execution_count": 48,
   "id": "70693925-4d15-45d2-a352-4e68f8a0c595",
   "metadata": {},
   "outputs": [
    {
     "data": {
      "text/plain": [
       "group  Hugo_Symbol\n",
       "H2A    H2AFJ          5\n",
       "       H2AFV          3\n",
       "       H2AFX          4\n",
       "       H2AFY          1\n",
       "       H2AFZ          5\n",
       "H3     H3F3A          9\n",
       "       H3F3B          6\n",
       "       H3F3C          5\n",
       "Name: Protein_Change_HGVSp, dtype: int64"
      ]
     },
     "execution_count": 48,
     "metadata": {},
     "output_type": "execute_result"
    }
   ],
   "source": [
    "nature_4[nature_4['group']!='other group'].groupby(['group','Hugo_Symbol']).Protein_Change_HGVSp.nunique()"
   ]
  },
  {
   "cell_type": "code",
   "execution_count": null,
   "id": "630375f7-ecd8-4133-bc8f-ac57ab0177ec",
   "metadata": {},
   "outputs": [],
   "source": []
  }
 ],
 "metadata": {
  "kernelspec": {
   "display_name": "Python 3",
   "language": "python",
   "name": "python3"
  },
  "language_info": {
   "codemirror_mode": {
    "name": "ipython",
    "version": 3
   },
   "file_extension": ".py",
   "mimetype": "text/x-python",
   "name": "python",
   "nbconvert_exporter": "python",
   "pygments_lexer": "ipython3",
   "version": "3.8.8"
  }
 },
 "nbformat": 4,
 "nbformat_minor": 5
}
